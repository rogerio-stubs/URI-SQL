{
  "nbformat": 4,
  "nbformat_minor": 0,
  "metadata": {
    "colab": {
      "name": "fibonacci",
      "provenance": [],
      "collapsed_sections": [],
      "include_colab_link": true
    },
    "kernelspec": {
      "name": "python3",
      "display_name": "Python 3"
    }
  },
  "cells": [
    {
      "cell_type": "markdown",
      "metadata": {
        "id": "view-in-github",
        "colab_type": "text"
      },
      "source": [
        "<a href=\"https://colab.research.google.com/github/rogerio-stubs/URI-SQL/blob/master/fibonacci.ipynb\" target=\"_parent\"><img src=\"https://colab.research.google.com/assets/colab-badge.svg\" alt=\"Open In Colab\"/></a>"
      ]
    },
    {
      "cell_type": "code",
      "metadata": {
        "id": "sMB93i3e5jDN",
        "colab_type": "code",
        "outputId": "ccd63b00-15f2-4690-b7a6-d1e1c9e58542",
        "colab": {
          "base_uri": "https://localhost:8080/",
          "height": 34
        }
      },
      "source": [
        "# Forma iterativa\n",
        "sequenciaFibonacci = list()\n",
        "contador = 0\n",
        "maximo = 10\n",
        "\n",
        "while contador <= maximo:\n",
        "    fibonacci = 0\n",
        "    if contador <= 1:\n",
        "        sequenciaFibonacci.append(contador)\n",
        "    else:\n",
        "        fibonacci = sequenciaFibonacci[contador - 1] + sequenciaFibonacci[contador - 2]\n",
        "        sequenciaFibonacci.append(fibonacci)\n",
        "    contador+= 1\n",
        "\n",
        "print(sequenciaFibonacci)"
      ],
      "execution_count": 38,
      "outputs": [
        {
          "output_type": "stream",
          "text": [
            "[0, 1, 1, 2, 3, 5, 8, 13, 21, 34, 55]\n"
          ],
          "name": "stdout"
        }
      ]
    },
    {
      "cell_type": "code",
      "metadata": {
        "id": "X6lpp3Qy8NN3",
        "colab_type": "code",
        "outputId": "734a9580-25a2-45fd-82e0-136b5ce84675",
        "colab": {
          "base_uri": "https://localhost:8080/",
          "height": 34
        }
      },
      "source": [
        "# Recursivo -- começa por 1\n",
        "def fibonacci(maximo):\n",
        "    if maximo < 2:\n",
        "        return maximo\n",
        "\n",
        "    return fibonacci(maximo - 1) + fibonacci(maximo - 2)\n",
        "\n",
        "fibonacci(10)"
      ],
      "execution_count": 63,
      "outputs": [
        {
          "output_type": "execute_result",
          "data": {
            "text/plain": [
              "55"
            ]
          },
          "metadata": {
            "tags": []
          },
          "execution_count": 63
        }
      ]
    },
    {
      "cell_type": "code",
      "metadata": {
        "id": "6N_nWu5SRMAV",
        "colab_type": "code",
        "colab": {}
      },
      "source": [
        "# Functions\n",
        "# Primeira versão\n",
        "def sequence_fibonacci(sequenceFibonacci, previousElement, currentElement):\n",
        "  if currentElement ==  0:\n",
        "    print('Fibonacci',previousElement)\n",
        "    currentElement += 1\n",
        "    print('Fibonacci',currentElement)\n",
        "    sequence_fibonacci(sequenceFibonacci, previousElement, currentElement)\n",
        "  elif currentElement < sequenceFibonacci and currentElement != 0:\n",
        "    fibonacci = previousElement + currentElement\n",
        "    print('Fibonacci',fibonacci)\n",
        "    previousElement = currentElement\n",
        "    currentElement = fibonacci\n",
        "    sequence_fibonacci(sequenceFibonacci, previousElement, currentElement)\n",
        "\n",
        "# Segunda versão\n",
        "def sequence_fibonacci2(number):\n",
        "    a, b = 0, 1\n",
        "    if number == 1:\n",
        "        print(b)\n",
        "    while b < number:\n",
        "        print(b)\n",
        "        a, b = b, a+b\n",
        "        "
      ],
      "execution_count": 0,
      "outputs": []
    },
    {
      "cell_type": "code",
      "metadata": {
        "id": "96p69LxpRRtb",
        "colab_type": "code",
        "outputId": "e7fb2b9f-222c-481c-e843-1d58e0e98f83",
        "colab": {
          "base_uri": "https://localhost:8080/",
          "height": 323
        }
      },
      "source": [
        "# Main\n",
        "# Uma função se a sequência começa com 0 a outra \n",
        "sequenceFibonacci = int(input('Sequência de Fibonacci até: '))\n",
        "print('Primeira função')\n",
        "sequence_fibonacci(sequenceFibonacci, 0, 0)\n",
        "print('Segunda função')\n",
        "sequenceFibonacci2 = int(input('Sequência de Fibonacci: '))\n",
        "sequence_fibonacci2(sequenceFibonacci2)"
      ],
      "execution_count": 0,
      "outputs": [
        {
          "output_type": "stream",
          "text": [
            "Sequência de Fibonacci até: 10\n",
            "Primeira função\n",
            "Fibonacci 0\n",
            "Fibonacci 1\n",
            "Fibonacci 1\n",
            "Fibonacci 2\n",
            "Fibonacci 3\n",
            "Fibonacci 5\n",
            "Fibonacci 8\n",
            "Fibonacci 13\n",
            "Segunda função\n",
            "Sequência de Fibonacci: 10\n",
            "1\n",
            "1\n",
            "2\n",
            "3\n",
            "5\n",
            "8\n"
          ],
          "name": "stdout"
        }
      ]
    }
  ]
}